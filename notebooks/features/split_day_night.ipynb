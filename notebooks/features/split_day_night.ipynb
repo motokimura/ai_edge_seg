{
 "cells": [
  {
   "cell_type": "code",
   "execution_count": 1,
   "metadata": {},
   "outputs": [],
   "source": [
    "import os\n",
    "import shutil\n",
    "import json\n",
    "from tqdm import tqdm"
   ]
  },
  {
   "cell_type": "code",
   "execution_count": 2,
   "metadata": {},
   "outputs": [],
   "source": [
    "root = '../../data'\n",
    "src_dir = os.path.join(root, 'aiedge')\n",
    "src_img_dir = os.path.join(src_dir, 'seg_train_images')\n",
    "src_ano_dir = os.path.join(src_dir, 'seg_train_annotations')\n",
    "\n",
    "day_dir = os.path.join(root, 'aiedge_day')\n",
    "day_img_dir = os.path.join(day_dir, 'seg_train_images')\n",
    "day_ano_dir = os.path.join(day_dir, 'seg_train_annotations')\n",
    "\n",
    "night_dir = os.path.join(root, 'aiedge_night')\n",
    "night_img_dir = os.path.join(night_dir, 'seg_train_images')\n",
    "night_ano_dir = os.path.join(night_dir, 'seg_train_annotations')\n",
    "\n",
    "os.makedirs(day_img_dir, exist_ok=True)\n",
    "os.makedirs(day_ano_dir, exist_ok=True)\n",
    "os.makedirs(night_img_dir, exist_ok=True)\n",
    "os.makedirs(night_ano_dir, exist_ok=True)"
   ]
  },
  {
   "cell_type": "code",
   "execution_count": 3,
   "metadata": {},
   "outputs": [
    {
     "name": "stderr",
     "output_type": "stream",
     "text": [
      "100%|██████████| 4486/4486 [00:02<00:00, 2119.06it/s]\n"
     ]
    }
   ],
   "source": [
    "filenames = os.listdir(src_ano_dir)\n",
    "\n",
    "for filename in tqdm(filenames):\n",
    "    if filename[-5:] != '.json':\n",
    "        continue\n",
    "    \n",
    "    meta_file = os.path.join(src_ano_dir, filename)\n",
    "    with open(meta_file, 'r') as f:\n",
    "        meta = json.load(f)\n",
    "    \n",
    "    timeofday = meta['attributes']['timeofday']\n",
    "    assert timeofday in ['morning', 'day', 'night']\n",
    "    \n",
    "    if timeofday in ['morning', 'day']:\n",
    "        dst_img_dir = day_img_dir\n",
    "        dst_ano_dir = day_ano_dir\n",
    "    \n",
    "    if timeofday == 'night':\n",
    "        dst_img_dir = night_img_dir\n",
    "        dst_ano_dir = night_ano_dir\n",
    "    \n",
    "    basename, _ = os.path.splitext(filename)\n",
    "    \n",
    "    shutil.copy(os.path.join(src_ano_dir, filename), os.path.join(dst_ano_dir, filename))\n",
    "    shutil.copy(os.path.join(src_ano_dir, '{}.png'.format(basename)), os.path.join(dst_ano_dir, '{}.png'.format(basename)))\n",
    "    shutil.copy(os.path.join(src_img_dir, '{}.jpg'.format(basename)), os.path.join(dst_img_dir, '{}.jpg'.format(basename)))"
   ]
  },
  {
   "cell_type": "code",
   "execution_count": null,
   "metadata": {},
   "outputs": [],
   "source": []
  }
 ],
 "metadata": {
  "kernelspec": {
   "display_name": "Python 3",
   "language": "python",
   "name": "python3"
  },
  "language_info": {
   "codemirror_mode": {
    "name": "ipython",
    "version": 3
   },
   "file_extension": ".py",
   "mimetype": "text/x-python",
   "name": "python",
   "nbconvert_exporter": "python",
   "pygments_lexer": "ipython3",
   "version": "3.6.0"
  }
 },
 "nbformat": 4,
 "nbformat_minor": 2
}
