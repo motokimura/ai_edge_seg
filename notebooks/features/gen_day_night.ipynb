{
 "cells": [
  {
   "cell_type": "code",
   "execution_count": 1,
   "metadata": {},
   "outputs": [],
   "source": [
    "import os\n",
    "import shutil\n",
    "import json\n",
    "from tqdm import tqdm"
   ]
  },
  {
   "cell_type": "code",
   "execution_count": 2,
   "metadata": {},
   "outputs": [],
   "source": [
    "def get_basename_list(src_list):\n",
    "    src_ano_dir = '../../data/aiedge/seg_train_annotations'\n",
    "    \n",
    "    day_basenames = []\n",
    "    night_basenames = []\n",
    "\n",
    "    with open(src_list) as f:\n",
    "        lines = f.readlines()\n",
    "\n",
    "    for line in lines:\n",
    "        line = line.rstrip()\n",
    "        _, path = line.split(',')\n",
    "        basename, _ = os.path.splitext(os.path.basename(path))\n",
    "\n",
    "        filename = '{}.json'.format(basename)\n",
    "        meta_file = os.path.join(src_ano_dir, filename)\n",
    "        with open(meta_file, 'r') as f:\n",
    "            meta = json.load(f)\n",
    "\n",
    "        timeofday = meta['attributes']['timeofday']\n",
    "        assert timeofday in ['morning', 'day', 'night']\n",
    "\n",
    "        if timeofday in ['morning', 'day']:\n",
    "            day_basenames.append(basename)\n",
    "\n",
    "        if timeofday == 'night':\n",
    "            night_basenames.append(basename)\n",
    "        \n",
    "    return day_basenames, night_basenames"
   ]
  },
  {
   "cell_type": "code",
   "execution_count": 3,
   "metadata": {},
   "outputs": [],
   "source": [
    "def dump_data_list(out_path, basenames, image_dir='seg_train_images', label_dir='seg_train_annotations'):\n",
    "    \n",
    "    with open(out_path, 'w') as f:\n",
    "        for basename in basenames:\n",
    "            image_file = '{}.jpg'.format(basename)\n",
    "            label_file = '{}.png'.format(basename)\n",
    "\n",
    "            image_rel_path = os.path.join(image_dir, image_file)\n",
    "            label_rel_path = os.path.join(label_dir, label_file)\n",
    "            f.write('{},{}\\n'.format(image_rel_path, label_rel_path))"
   ]
  },
  {
   "cell_type": "code",
   "execution_count": 4,
   "metadata": {},
   "outputs": [],
   "source": [
    "day_basenames, night_basenames = get_basename_list('../../data/aiedge/train.txt')\n",
    "dump_data_list('../../data/aiedge_day/train.txt', day_basenames)\n",
    "dump_data_list('../../data/aiedge_night/train.txt', night_basenames)"
   ]
  },
  {
   "cell_type": "code",
   "execution_count": 5,
   "metadata": {},
   "outputs": [],
   "source": [
    "day_basenames, night_basenames = get_basename_list('../../data/aiedge/val.txt')\n",
    "dump_data_list('../../data/aiedge_day/val.txt', day_basenames)\n",
    "dump_data_list('../../data/aiedge_night/val.txt', night_basenames)"
   ]
  },
  {
   "cell_type": "code",
   "execution_count": null,
   "metadata": {},
   "outputs": [],
   "source": []
  }
 ],
 "metadata": {
  "kernelspec": {
   "display_name": "Python 3",
   "language": "python",
   "name": "python3"
  },
  "language_info": {
   "codemirror_mode": {
    "name": "ipython",
    "version": 3
   },
   "file_extension": ".py",
   "mimetype": "text/x-python",
   "name": "python",
   "nbconvert_exporter": "python",
   "pygments_lexer": "ipython3",
   "version": "3.6.0"
  }
 },
 "nbformat": 4,
 "nbformat_minor": 2
}
